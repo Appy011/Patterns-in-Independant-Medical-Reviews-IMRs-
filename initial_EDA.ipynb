{
 "cells": [
  {
   "cell_type": "markdown",
   "metadata": {},
   "source": [
    "# Initial EDA for 'Patterns in Independant Medical Reviews'"
   ]
  },
  {
   "cell_type": "code",
   "execution_count": 2,
   "metadata": {},
   "outputs": [],
   "source": [
    "import pandas as pd\n",
    "import numpy as np\n",
    "import matplotlib.pyplot as plt\n",
    "import scipy.stats as stats\n",
    "import seaborn as sns\n",
    "\n",
    "%matplotlib inline\n",
    "\n",
    "plt.style.use('seaborn')"
   ]
  },
  {
   "cell_type": "markdown",
   "metadata": {},
   "source": [
    "```\n",
    "###       Importing the Dataset into a Pandas DataFrame       ###\n",
    "```"
   ]
  },
  {
   "cell_type": "code",
   "execution_count": 3,
   "metadata": {},
   "outputs": [],
   "source": [
    "raw = pd.read_csv('data/independent-medical-review-imr-determinations-trends.csv', delimiter=',', encoding = 'cp1252')"
   ]
  },
  {
   "cell_type": "code",
   "execution_count": 5,
   "metadata": {},
   "outputs": [
    {
     "name": "stdout",
     "output_type": "stream",
     "text": [
      "<class 'pandas.core.frame.DataFrame'>\n",
      "RangeIndex: 28048 entries, 0 to 28047\n",
      "Data columns (total 14 columns):\n",
      "ReferenceID             28048 non-null object\n",
      "ReportYear              28048 non-null int64\n",
      "DiagnosisCategory       28048 non-null object\n",
      "DiagnosisSubCategory    28027 non-null object\n",
      "TreatmentCategory       28048 non-null object\n",
      "TreatmentSubCategory    28047 non-null object\n",
      "Determination           28048 non-null object\n",
      "Type                    28048 non-null object\n",
      "AgeRange                27357 non-null object\n",
      "PatientGender           27357 non-null object\n",
      "IMRType                 28048 non-null object\n",
      "DaysToReview            27387 non-null float64\n",
      "DaysToAdopt             28048 non-null int64\n",
      "Findings                28048 non-null object\n",
      "dtypes: float64(1), int64(2), object(11)\n",
      "memory usage: 3.0+ MB\n"
     ]
    }
   ],
   "source": [
    "raw.info()"
   ]
  },
  {
   "cell_type": "code",
   "execution_count": 6,
   "metadata": {},
   "outputs": [
    {
     "data": {
      "text/html": [
       "<div>\n",
       "<style scoped>\n",
       "    .dataframe tbody tr th:only-of-type {\n",
       "        vertical-align: middle;\n",
       "    }\n",
       "\n",
       "    .dataframe tbody tr th {\n",
       "        vertical-align: top;\n",
       "    }\n",
       "\n",
       "    .dataframe thead th {\n",
       "        text-align: right;\n",
       "    }\n",
       "</style>\n",
       "<table border=\"1\" class=\"dataframe\">\n",
       "  <thead>\n",
       "    <tr style=\"text-align: right;\">\n",
       "      <th></th>\n",
       "      <th>ReferenceID</th>\n",
       "      <th>ReportYear</th>\n",
       "      <th>DiagnosisCategory</th>\n",
       "      <th>DiagnosisSubCategory</th>\n",
       "      <th>TreatmentCategory</th>\n",
       "      <th>TreatmentSubCategory</th>\n",
       "      <th>Determination</th>\n",
       "      <th>Type</th>\n",
       "      <th>AgeRange</th>\n",
       "      <th>PatientGender</th>\n",
       "      <th>IMRType</th>\n",
       "      <th>DaysToReview</th>\n",
       "      <th>DaysToAdopt</th>\n",
       "      <th>Findings</th>\n",
       "    </tr>\n",
       "  </thead>\n",
       "  <tbody>\n",
       "    <tr>\n",
       "      <th>0</th>\n",
       "      <td>MN19-32164</td>\n",
       "      <td>2019</td>\n",
       "      <td>Skin Disorders</td>\n",
       "      <td>Acne</td>\n",
       "      <td>Reconstr/Plast Proc</td>\n",
       "      <td>Panniculectomy</td>\n",
       "      <td>Upheld Decision of Health Plan</td>\n",
       "      <td>Medical Necessity</td>\n",
       "      <td>31 to 40</td>\n",
       "      <td>Female</td>\n",
       "      <td>Standard</td>\n",
       "      <td>20.0</td>\n",
       "      <td>75</td>\n",
       "      <td>An enrollee has requested authorization and co...</td>\n",
       "    </tr>\n",
       "    <tr>\n",
       "      <th>1</th>\n",
       "      <td>EI19-32122</td>\n",
       "      <td>2019</td>\n",
       "      <td>Orth/Musculoskeletal</td>\n",
       "      <td>Hip Problem/Pain</td>\n",
       "      <td>Orthopedic Proc</td>\n",
       "      <td>Hip Replacement</td>\n",
       "      <td>Overturned Decision of Health Plan</td>\n",
       "      <td>Experimental/Investigational</td>\n",
       "      <td>51 to 64</td>\n",
       "      <td>Female</td>\n",
       "      <td>Standard</td>\n",
       "      <td>21.0</td>\n",
       "      <td>88</td>\n",
       "      <td>An enrollee has requested reimbursement for hi...</td>\n",
       "    </tr>\n",
       "    <tr>\n",
       "      <th>2</th>\n",
       "      <td>MN19-32086</td>\n",
       "      <td>2019</td>\n",
       "      <td>Orth/Musculoskeletal</td>\n",
       "      <td>Bone Fracture/Break</td>\n",
       "      <td>Transportation</td>\n",
       "      <td>Non Emerg Med (NEMT)</td>\n",
       "      <td>Upheld Decision of Health Plan</td>\n",
       "      <td>Medical Necessity</td>\n",
       "      <td>65+</td>\n",
       "      <td>Male</td>\n",
       "      <td>Standard</td>\n",
       "      <td>21.0</td>\n",
       "      <td>78</td>\n",
       "      <td>The patient has requested reimbursement for ai...</td>\n",
       "    </tr>\n",
       "    <tr>\n",
       "      <th>3</th>\n",
       "      <td>MN19-32052</td>\n",
       "      <td>2019</td>\n",
       "      <td>GU/ Kidney Disorder</td>\n",
       "      <td>Vaginal Infection</td>\n",
       "      <td>Pharmacy</td>\n",
       "      <td>Hormones</td>\n",
       "      <td>Overturned Decision of Health Plan</td>\n",
       "      <td>Medical Necessity</td>\n",
       "      <td>65+</td>\n",
       "      <td>Female</td>\n",
       "      <td>Standard</td>\n",
       "      <td>20.0</td>\n",
       "      <td>51</td>\n",
       "      <td>Nature of Statutory Criteria/ Case Summary:  T...</td>\n",
       "    </tr>\n",
       "    <tr>\n",
       "      <th>4</th>\n",
       "      <td>EI19-32051</td>\n",
       "      <td>2019</td>\n",
       "      <td>Cardiac/Circ Problem</td>\n",
       "      <td>Hypertension</td>\n",
       "      <td>Diag Imag &amp; Screen</td>\n",
       "      <td>CT Scan</td>\n",
       "      <td>Upheld Decision of Health Plan</td>\n",
       "      <td>Experimental/Investigational</td>\n",
       "      <td>41 to 50</td>\n",
       "      <td>Female</td>\n",
       "      <td>Standard</td>\n",
       "      <td>21.0</td>\n",
       "      <td>52</td>\n",
       "      <td>An enrollee has requested reimbursement for a ...</td>\n",
       "    </tr>\n",
       "  </tbody>\n",
       "</table>\n",
       "</div>"
      ],
      "text/plain": [
       "  ReferenceID  ReportYear     DiagnosisCategory DiagnosisSubCategory  \\\n",
       "0  MN19-32164        2019        Skin Disorders                 Acne   \n",
       "1  EI19-32122        2019  Orth/Musculoskeletal     Hip Problem/Pain   \n",
       "2  MN19-32086        2019  Orth/Musculoskeletal  Bone Fracture/Break   \n",
       "3  MN19-32052        2019   GU/ Kidney Disorder    Vaginal Infection   \n",
       "4  EI19-32051        2019  Cardiac/Circ Problem         Hypertension   \n",
       "\n",
       "     TreatmentCategory  TreatmentSubCategory  \\\n",
       "0  Reconstr/Plast Proc        Panniculectomy   \n",
       "1      Orthopedic Proc       Hip Replacement   \n",
       "2       Transportation  Non Emerg Med (NEMT)   \n",
       "3             Pharmacy              Hormones   \n",
       "4   Diag Imag & Screen               CT Scan   \n",
       "\n",
       "                        Determination                          Type  AgeRange  \\\n",
       "0      Upheld Decision of Health Plan             Medical Necessity  31 to 40   \n",
       "1  Overturned Decision of Health Plan  Experimental/Investigational  51 to 64   \n",
       "2      Upheld Decision of Health Plan             Medical Necessity       65+   \n",
       "3  Overturned Decision of Health Plan             Medical Necessity       65+   \n",
       "4      Upheld Decision of Health Plan  Experimental/Investigational  41 to 50   \n",
       "\n",
       "  PatientGender   IMRType  DaysToReview  DaysToAdopt  \\\n",
       "0        Female  Standard          20.0           75   \n",
       "1        Female  Standard          21.0           88   \n",
       "2          Male  Standard          21.0           78   \n",
       "3        Female  Standard          20.0           51   \n",
       "4        Female  Standard          21.0           52   \n",
       "\n",
       "                                            Findings  \n",
       "0  An enrollee has requested authorization and co...  \n",
       "1  An enrollee has requested reimbursement for hi...  \n",
       "2  The patient has requested reimbursement for ai...  \n",
       "3  Nature of Statutory Criteria/ Case Summary:  T...  \n",
       "4  An enrollee has requested reimbursement for a ...  "
      ]
     },
     "execution_count": 6,
     "metadata": {},
     "output_type": "execute_result"
    }
   ],
   "source": [
    "raw.head()"
   ]
  },
  {
   "cell_type": "code",
   "execution_count": 7,
   "metadata": {},
   "outputs": [],
   "source": [
    "df = raw.copy()"
   ]
  },
  {
   "cell_type": "code",
   "execution_count": null,
   "metadata": {},
   "outputs": [],
   "source": []
  }
 ],
 "metadata": {
  "kernelspec": {
   "display_name": "Python 3",
   "language": "python",
   "name": "python3"
  },
  "language_info": {
   "codemirror_mode": {
    "name": "ipython",
    "version": 3
   },
   "file_extension": ".py",
   "mimetype": "text/x-python",
   "name": "python",
   "nbconvert_exporter": "python",
   "pygments_lexer": "ipython3",
   "version": "3.7.3"
  }
 },
 "nbformat": 4,
 "nbformat_minor": 2
}
