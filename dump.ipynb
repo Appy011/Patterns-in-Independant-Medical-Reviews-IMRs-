{
 "cells": [
  {
   "cell_type": "markdown",
   "metadata": {},
   "source": [
    "# Hypothesis One"
   ]
  },
  {
   "cell_type": "code",
   "execution_count": 1,
   "metadata": {},
   "outputs": [],
   "source": [
    "# def welch_test_statistic(sample_1, sample_2):\n",
    "#     numerator = np.mean(sample_1) - np.mean(sample_2)\n",
    "#     denominator_sq = (np.var(sample_1) / len(sample_1)) + (np.var(sample_2) / len(sample_2))\n",
    "#     return numerator / np.sqrt(denominator_sq)\n",
    "\n",
    "# test_statistic = welch_test_statistic(dfd_inf.Determination, dfd_gen.Determination)\n",
    "# print(\"Welch Test Statistic: {:2.2f}\".format(test_statistic))\n",
    "\n",
    "# def welch_satterhwaithe_df(sample_1, sample_2):\n",
    "#     ss1 = len(sample_1)\n",
    "#     ss2 = len(sample_2)\n",
    "#     df = (\n",
    "#         ((np.var(sample_1)/ss1 + np.var(sample_2)/ss2)**(2.0)) / \n",
    "#         ((np.var(sample_1)/ss1)**(2.0)/(ss1 - 1) + (np.var(sample_2)/ss2)**(2.0)/(ss2 - 1))\n",
    "#     )\n",
    "#     return df\n",
    "\n",
    "# df_w1 = welch_satterhwaithe_df(dfd_inf.Determination, dfd_gen.Determination)\n",
    "# print(\"Degrees of Freedom for Welch's Test: {:2.2f}\".format(df_w1))"
   ]
  },
  {
   "cell_type": "code",
   "execution_count": 2,
   "metadata": {},
   "outputs": [],
   "source": [
    "# x = np.linspace(-3, 3, num=250)\n",
    "\n",
    "# fig, ax = plt.subplots(1, figsize=(16, 3))\n",
    "# students = stats.t(df_w1)\n",
    "# ax.plot(x, students.pdf(x), linewidth=2, label=\"Degree of Freedom: {:2.2f}\".format(df_w1))\n",
    "# ax.legend()\n",
    "# ax.set_title(\"Distribution of Welsh's Test Statistic Under the Null Hypothesis\")\n",
    "\n",
    "# x = np.linspace(-3, 3, num=250)\n",
    "\n",
    "# fig, ax = plt.subplots(1, figsize=(16, 3))\n",
    "# students = stats.t(df_w1)\n",
    "# ax.plot(x, students.pdf(x), linewidth=2, label=\"Degree of Freedom: {:2.2f}\".format(df_w1))\n",
    "# _ = ax.fill_between(x, students.pdf(x), where=(x >= -test_statistic), color=\"red\", alpha=0.25)\n",
    "# _ = ax.fill_between(x, students.pdf(x), where=(x <= test_statistic), color=\"red\", alpha=0.25)\n",
    "# ax.legend()\n",
    "# ax.set_title(\"p-value Reigon\")"
   ]
  },
  {
   "cell_type": "code",
   "execution_count": 3,
   "metadata": {},
   "outputs": [],
   "source": [
    "# p_value_s12 = students.cdf(test_statistic) + (1 - students.cdf(-test_statistic))\n",
    "# print(\"p-value for overturned frequency comparison: {:2.4f}\".format(p_value_s12))\n",
    "\n",
    "# test_statistic = welch_test_statistic(dfd_inf.Determination, dfd_gen.Determination)\n",
    "# # print(test_statistic)\n",
    "# p_value_s23 = 1 - students.cdf(test_statistic)\n",
    "# print(\"p-value for genetic diseases overturn frequency greater than Infectious diseases: {:2.4f}\".format(p_value_s23))"
   ]
  },
  {
   "cell_type": "markdown",
   "metadata": {},
   "source": [
    "# Hypothesis Two"
   ]
  },
  {
   "cell_type": "code",
   "execution_count": 5,
   "metadata": {},
   "outputs": [],
   "source": [
    "# def welch_test_statistic(sample_1, sample_2):\n",
    "#     numerator = np.mean(sample_1) - np.mean(sample_2)\n",
    "#     denominator_sq = (np.var(sample_1) / len(sample_1)) + (np.var(sample_2) / len(sample_2))\n",
    "#     return numerator / np.sqrt(denominator_sq)\n",
    "\n",
    "# test_statistic = welch_test_statistic(dfa_hi.Determination, dfa_lw.Determination)\n",
    "# print(\"Welch Test Statistic: {:2.2f}\".format(test_statistic))\n",
    "\n",
    "\n",
    "# def welch_satterhwaithe_df(sample_1, sample_2):\n",
    "#     ss1 = len(sample_1)\n",
    "#     ss2 = len(sample_2)\n",
    "#     df = (\n",
    "#         ((np.var(sample_1)/ss1 + np.var(sample_2)/ss2)**(2.0)) / \n",
    "#         ((np.var(sample_1)/ss1)**(2.0)/(ss1 - 1) + (np.var(sample_2)/ss2)**(2.0)/(ss2 - 1))\n",
    "#     )\n",
    "#     return df\n",
    "\n",
    "# df_w2 = welch_satterhwaithe_df(dfa_hi.Determination, dfa_lw.Determination)\n",
    "# print(\"Degrees of Freedom for Welch's Test: {:2.2f}\".format(df_w2))"
   ]
  },
  {
   "cell_type": "code",
   "execution_count": 6,
   "metadata": {},
   "outputs": [],
   "source": [
    "# x = np.linspace(-3, 3, num=250)\n",
    "\n",
    "# fig, ax = plt.subplots(1, figsize=(16, 3))\n",
    "# students = stats.t(df_w2)\n",
    "# ax.plot(x, students.pdf(x), linewidth=2, label=\"Degree of Freedom: {:2.2f}\".format(df_w2))\n",
    "# ax.legend()\n",
    "# ax.set_title(\"Distribution of Welsh's Test Statistic Under the Null Hypothesis\")\n",
    "\n",
    "# x = np.linspace(-3, 3, num=250)\n",
    "\n",
    "# fig, ax = plt.subplots(1, figsize=(16, 3))\n",
    "# students = stats.t(df_w2)\n",
    "# ax.plot(x, students.pdf(x), linewidth=2, label=\"Degree of Freedom: {:2.2f}\".format(df_w2))\n",
    "# _ = ax.fill_between(x, students.pdf(x), where=(x >= -test_statistic), color=\"red\", alpha=0.25)\n",
    "# _ = ax.fill_between(x, students.pdf(x), where=(x <= test_statistic), color=\"red\", alpha=0.25)\n",
    "# ax.legend()\n",
    "# ax.set_title(\"p-value Reigon\")"
   ]
  },
  {
   "cell_type": "code",
   "execution_count": 7,
   "metadata": {},
   "outputs": [],
   "source": [
    "# p_value_s22 = students.cdf(test_statistic) + (1 - students.cdf(-test_statistic))\n",
    "# print(\"p-value for overturned frequency comparison: {:2.4f}\".format(p_value_s22))\n",
    "\n",
    "# test_statistic = welch_test_statistic(dfa_lw.Determination, dfa_hi.Determination)\n",
    "\n",
    "# p_value_s23 = 1 - students.cdf(test_statistic)\n",
    "# print(\"p-value for 0 to 10 age group overturn frequency greater than 51 to 64 age group: {:2.4f}\".format(p_value_s23))"
   ]
  },
  {
   "cell_type": "markdown",
   "metadata": {},
   "source": [
    "# Stuff"
   ]
  },
  {
   "cell_type": "code",
   "execution_count": 8,
   "metadata": {},
   "outputs": [],
   "source": [
    "# binomial1 = stats.binom(n=173, p=0.58)\n",
    "# binomial1_mean = 0.58 * 173\n",
    "# binomial1_var = 173 * 0.58 * 0.42\n",
    "# normal_approx1 = stats.norm(binomial1_mean, np.sqrt(binomial1_var))\n",
    "# x1 = np.linspace(0, 500, num=20000)\n",
    "# bar1_sizes = [binomial1.pmf(i) for i in range(174)]\n",
    "\n",
    "# # binomial2 = stats.binom(n=1655, p=0.72)\n",
    "# # binomial2_mean = 0.72 * 173\n",
    "# # binomial2_var = 1655 * 0.72 * 0.28\n",
    "# # normal_approx2 = stats.norm(binomial2_mean, np.sqrt(binomial2_var))\n",
    "# # x2 = np.linspace(1000, 1750, num=20000)\n",
    "# # bar2_sizes = [binomial1.pmf(i) for i in range(1656)]\n",
    "\n",
    "# fig, axs = plt.subplots(2, figsize=(16, 6))\n",
    "\n",
    "# axs[0].bar(range(174), bar1_sizes, color=\"black\", align=\"center\")\n",
    "# axs[0].plot(x1, normal_approx1.pdf(x1), linewidth=3)\n",
    "# axs[0].set_xlim(0, 174)\n",
    "\n",
    "# # axs[1].bar(range(1656), bar2_sizes, color=\"grey\", align=\"center\")\n",
    "# # axs[1].plot(x2, normal_approx2.pdf(x), linewidth=3)\n",
    "# # axs[1].set_xlim(0, 1656)\n",
    "\n",
    "# axs[0].set_title(\"Probability of Genetic Decisions Overturned under Null Hypothesis\")\n",
    "# # axs[1].set_title(\"Probability of Infectious Decisions Overturned under Null Hypothesis\")\n",
    "\n",
    "\n",
    "# # binomial_s1 = stats.binom(n=173, p=0.58)\n",
    "# # binomial_s2 = stats.binom(n=1655, p=0.72)\n",
    "\n",
    "# # fig, ax = plt.subplots(1, figsize=(16, 8))\n",
    "# # _ = ax.hist([binomial_s1.pmf(i) for i in range(174)], color=\"grey\")\n",
    "# # _a = ax.hist([binomial_s2.pmf(i) for i in range(1656)], color=\"black\")"
   ]
  },
  {
   "cell_type": "code",
   "execution_count": null,
   "metadata": {},
   "outputs": [],
   "source": []
  }
 ],
 "metadata": {
  "kernelspec": {
   "display_name": "Python 3",
   "language": "python",
   "name": "python3"
  },
  "language_info": {
   "codemirror_mode": {
    "name": "ipython",
    "version": 3
   },
   "file_extension": ".py",
   "mimetype": "text/x-python",
   "name": "python",
   "nbconvert_exporter": "python",
   "pygments_lexer": "ipython3",
   "version": "3.7.3"
  }
 },
 "nbformat": 4,
 "nbformat_minor": 2
}
